{
 "cells": [
  {
   "cell_type": "markdown",
   "metadata": {},
   "source": [
    "# A Stopping Game with Complementarities"
   ]
  },
  {
   "cell_type": "markdown",
   "metadata": {},
   "source": [
    "### Jaap Abbring, April 2021 (revised November 2022)"
   ]
  },
  {
   "cell_type": "markdown",
   "metadata": {},
   "source": [
    "Consider an exit game with complementarities between two agents called Dee ($d$) and Mindy ($-d$). For concreteness, suppose that Dee and Mindy are two anchor stores in a dwindling strip mall who complement each other by generating consumer traffic to the mall, but are each pondering to permanently exit. (Alternatively, they could be a couple of smokers who enjoy smoking together, but are considering to quit for health reasons.) "
   ]
  },
  {
   "cell_type": "markdown",
   "metadata": {},
   "source": [
    "### Model\n",
    "\n",
    "Let time $t\\in\\{1,\\ldots\\}$ be discrete with infinite horizon. Let $A^j_t=1$ denote that agent $j\\in\\{d,-d\\}$ is active in period $t$ and $A^j_t=0$ that she is not. Both Dee and Mindy are initially active; we make this explicit by denoting $A^d_0=A^{-d}_0=1$.  \n",
    "\n",
    "At the start of each period $t$, Dee and Mindy know the full history of moves and states (in particular, $A^d_{t-1}$, $A^{-d}_{t-1}$), and first observe scalar state variables $\\varepsilon_t(0)$ and $\\varepsilon_t(1)$, drawn independently from mean-zero type 1 extreme value distributions. If agent $j\\in\\{d,-d\\}$ was inactive last period ($A^j_{t-1}=0$), she will remain inactive this period ($A^j_{t}=0$) and earn a zero payoff. Otherwise, she can choose to either remain active ($A_t^j=1$) and earn $\\beta^j+\\delta A^{-j}_t+\\varepsilon_t(1)$, or exit ($A_t^j=0$) and earn $\\varepsilon_t(0)$. Here, $\\beta^d,\\beta^{-d}\\in\\mathbb{R}$ are the baseline payoffs to Dee and Mindy from being active and $\\delta\\geq 0$ captures the possible (symmetric) complementarities between them. These parameters are commonly known. If Dee and Mindy were both active last period, they move simultaneously this period. \n",
    "\n",
    "Dee and Mindy use pure strategies that maximize their expected payoffs, discounted with a factor $\\rho\\in[0,1)$, in Markov-perfect equilibrium (MPE).\n",
    "\n",
    "### Equilibrium Analysis\n",
    "\n",
    "If agent $j$ decides on remaining active in period $t$, her payoff-relevant state is $\\left(A^{-j}_{t-1},\\varepsilon_t\\right)$, where $\\varepsilon_t\\equiv\\left(\\varepsilon_t(0),\\varepsilon_t(1)\\right)$. A pure Markov strategy $\\alpha^j:\\{0,1\\}\\times\\mathbb{R}^2\\rightarrow\\{0,1\\}$ maps this state into either exit ($0$) or survival ($1$). Note that we focus on a stationary strategy because time $t$ is not payoff relevant. An MPE is a subgame-perfect equilibrium in Markov strategies.\n",
    "\n",
    "#### Auxiliary single-agent optimal stopping problem\n",
    "\n",
    "Our construction of candidate MPE strategy profiles $(\\alpha^d,\\alpha^{-d})$ makes intuitive use of the solution to a single-agent optimal stopping problem in which the agent earns $\\xi+\\varepsilon_t(1)$ in each period $t$ in which she is active, for some $\\xi\\in\\mathbb{R}$, and that is otherwise the same as the Dee's or Mindy's decision problem in our game. \n",
    "\n",
    "In this auxiliary problem, the optimal value of continuing, measured just after taking this decision and before period $t$'s payoffs accrue, is $U_\\xi+\\varepsilon_t(1)$, with $U_\\xi$ the unique fixed point of the smoothed Bellman operator\n",
    "\n",
    "$$U\\mapsto \\Psi_\\xi(U)\\equiv\\xi+\\rho\\log(1+\\exp(U)).$$\n",
    "\n",
    "Note that we have used the analytic expression for McFadden's social surplus in the logit case. The corresponding optimal decision rule $\\alpha_\\xi:\\mathbb{R}^2\\rightarrow\\{0,1\\}$ is \n",
    "\n",
    "$$\\alpha_\\xi\\left(\\varepsilon_t\\right)=I\\left(U_\\xi+\\varepsilon_t(1)>\\varepsilon_t(0)\\right),$$\n",
    "\n",
    "where $I(\\cdot)=1$ if $\\cdot$ is true, and $0$ otherwise. Note that we have selected the decision rule that \"defaults to inactivity\" in the sense that it prescribes exit whenever the agent is indifferent. We could construct other optimal decision rules by varying the way ties are resolved, but this is not of substantial interest, because ties occur with zero probability. Throughout, we will restrict attention to decision rules and MPE strategies that default to inactivity this way.\n",
    "\n",
    "---\n",
    "*Exercises: Properties of the auxiliary optimal stopping problem*\n",
    "\n",
    "1. *Prove that, for any $\\xi\\in\\mathbb{R}$, $\\Psi_\\xi$ has a unique fixed point $U_\\xi$.*\n",
    "\n",
    "2. *Prove that $U_\\xi<U_{\\xi'}$ if $\\xi<\\xi'$.*\n",
    "---\n",
    "We first save a function `bellman` that codes up $\\Psi_\\xi$, with an input `xi` for the value of $\\xi$ (the discount factor `rho` is a global variable). "
   ]
  },
  {
   "cell_type": "code",
   "execution_count": 2,
   "metadata": {},
   "outputs": [
    {
     "name": "stdout",
     "output_type": "stream",
     "text": [
      "Created file '/Users/jaap/sandbox/dynamic-economic-models/lectures/games/code/bellman.m'.\n"
     ]
    }
   ],
   "source": [
    "%%file code/bellman.m\n",
    "\n",
    "function Uout=bellman(U,xi)\n",
    "global rho\n",
    "    Uout=xi+rho*log(1+exp(U));\n",
    "end"
   ]
  },
  {
   "cell_type": "markdown",
   "metadata": {},
   "source": [
    "We also save a function `solveP` that can be used to find the fixed point $U_\\xi$ of $\\Psi_\\xi$ by value iteration."
   ]
  },
  {
   "cell_type": "code",
   "execution_count": 3,
   "metadata": {},
   "outputs": [
    {
     "name": "stdout",
     "output_type": "stream",
     "text": [
      "Created file '/Users/jaap/sandbox/dynamic-economic-models/lectures/games/code/solveP.m'.\n"
     ]
    }
   ],
   "source": [
    "%%file code/solveP.m\n",
    "\n",
    "function Unew=solveP(f)\n",
    "    tol=1E-9;\n",
    "    Unew=0;\n",
    "    Uold=Unew+2*tol;\n",
    "    while max(abs(Uold-Unew))>tol\n",
    "        Uold=Unew;\n",
    "        Unew=f(Uold);\n",
    "    end\n",
    "end\n"
   ]
  },
  {
   "cell_type": "markdown",
   "metadata": {},
   "source": [
    "For each $j\\in\\{d,-d\\}$, we are particularly interested in $U_\\xi$ and $\\alpha_\\xi$ for values of $\\xi$ that give the stopping problem agent $j$ would solve if agent $-j$ would never ($\\beta^j$) or always ($\\beta^j+\\delta$) be active. Without loss of generality, suppose that Dee has lower base payoff than Mindy: $\\beta^d\\leq\\beta^{-d}$ (in the code, we will use the suggestive variable names `betaL` for the lowest and `betaH` for the highest base payoff). We will calculate solutions to the auxiliary problems for two numerical examples of the model, one in which (A) complementarities are large enough to compensate for the differences between Dee and Mindy, $0.50=\\delta\\geq\\beta^{-d}-\\beta^{d}=0.30$, and one in which (B) heterogeneity trumps complementarities, $0.25=\\delta<\\beta^{-d}-\\beta^d=0.30$. "
   ]
  },
  {
   "cell_type": "code",
   "execution_count": 4,
   "metadata": {},
   "outputs": [
    {
     "name": "stdout",
     "output_type": "stream",
     "text": [
      "\n",
      "xi =\n",
      "\n",
      "   -0.2000    0.1000    0.3000    0.6000\n",
      "\n",
      "\n",
      "U =\n",
      "\n",
      "    0.7890    1.6564    2.4632    4.0937\n",
      "\n",
      "\n",
      "xi =\n",
      "\n",
      "   -0.2000    0.1000    0.0500    0.3500\n",
      "\n",
      "\n",
      "U =\n",
      "\n",
      "    0.7890    1.6564    1.4876    2.7014\n",
      "\n"
     ]
    }
   ],
   "source": [
    "global rho\n",
    "addpath('code/')\n",
    "rho = 0.85;\n",
    "betaH = 0.1;\n",
    "betaL = -0.2;\n",
    "\n",
    "delta = 0.5;\n",
    "xi = [betaL betaH betaL+delta betaH+delta]\n",
    "U = solveP(@(U)bellman(U,xi))\n",
    "\n",
    "delta = 0.25;\n",
    "xi = [betaL betaH betaL+delta betaH+delta]\n",
    "U = solveP(@(U)bellman(U,xi))"
   ]
  },
  {
   "cell_type": "markdown",
   "metadata": {},
   "source": [
    "Note that, as Exercise 2 implies, the value of continuing is larger if agent $j$ benefits from the complementarity: \n",
    "$U_{\\beta^j+\\delta}\\geq U_{\\beta^j}$. In the first example, the complementarity more than compensates for Dee's lower base payoff: $U_{\\beta^d+\\delta}\\geq U_{\\beta^{-d}}$. In the second example, it does not: $U_{\\beta^d+\\delta}<U_{\\beta^{-d}}$.\n",
    "\n",
    "#### Constructing MPE\n",
    "\n",
    "Denote the equilibrium value of continuing with $v^j:\\{0,1\\}\\times\\mathbb{R}^2\\rightarrow\\mathbb{R}$. Note that the corresponding equilibrium strategy satisfies\n",
    "$$\\alpha^j\\left(A^{-j}_{t-1},\\varepsilon_t\\right)=I\\left(v^j(A^{-j}_{t-1},\\varepsilon_t)>\\varepsilon_t(0)\\right).$$\n",
    "\n",
    "First, observe that, once agent $j$ enters a period $t$ alone ($A^{j}_{t-1}=1$ and $A^{-j}_{t-1}=0$), she will remain alone in all future periods until she leaves. Therefore, subgame perfection requires that $\\alpha^j(0,\\varepsilon_t)=\\alpha_{\\beta^j}(\\varepsilon_t)$, with corresponding value $v^j(0,\\varepsilon_t)=U_{\\beta^j}+\\varepsilon_t(1)$. This determines $\\alpha^j$ and $v^j$ on $\\{0\\}\\times\\mathbb{R}^2$. \n",
    "\n",
    "Next, consider Dee and Mindy's equilibrium exit strategies and continuation values when they are both still active ($A^d_{t-1}=A^{-d}_{t-1}=1$): $\\alpha^j$ and $v^j$ on $\\{1\\}\\times\\mathbb{R}^2$. Note that the equilibrium value\n",
    "$$v^j(1,\\varepsilon_t)=\\alpha^{-j}(1,\\varepsilon_t)\n",
    "\\left(\\beta^j+\\delta+\\varepsilon_t(1)+\\rho\\mathbb{E}\\max\\{v^j(1,\\varepsilon_{t+1}),\\varepsilon_{t+1}(0)\\}\\right) +\\left(1-\\alpha^{-j}(1,\\varepsilon_t)\\right)v^j(0,\\varepsilon_t)$$\n",
    "is bounded by the optimal values from the auxiliary stopping problem in which agent $-j$ is never around and the one in which she is always around:\n",
    "$$U_{\\beta^j}+\\varepsilon_t(1)\\leq v^j(1,\\varepsilon_t)\\leq U_{\\beta^j+\\delta}+\\varepsilon_t(1).$$\n",
    "We consider the two cases corresponding to numerical examples A and B.\n",
    "\n",
    "##### A. Complementarity dominates heterogeneity\n",
    "\n",
    "In the situation of our first example, complementarity dominates heterogeneity: $\\beta^d+\\delta\\geq \\beta^{-d}$. In this case, we can pin down the equilibrium strategy for extreme values of $\\varepsilon_t$. \n",
    "- Suppose that $\\varepsilon_t(0)<U_{\\beta^{-d}}+\\varepsilon_t(1)$. Then, $\\varepsilon_t(0)<v^{-d}(1,\\varepsilon_t)$, so that $\\alpha^{-d}(1,\\varepsilon_t)=1$ (survival dominates). Moreover, as Dee could adopt the rule to continue if $\\varepsilon_t(0)<U_{\\beta^{-d}}+\\varepsilon_t(1)$ and exit otherwise, $v^d(1,\\varepsilon_t)\\geq U_{\\beta^{-d}}+\\varepsilon_t(1)>\\varepsilon_t(0)$. Consequently, $\\alpha^{d}(1,\\varepsilon_t)=1$ as well and neither firm leaves.\n",
    "- Suppose that $\\varepsilon_t(0)\\geq U_{\\beta^{d}+\\delta}+\\varepsilon_t(1)$. Then, $\\varepsilon_t(0)\\geq v^{d}(1,\\varepsilon_t)$, so that $\\alpha^{d}(1,\\varepsilon_t)=0$ (exit dominates). In turn, this implies that $v^{-d}(1,\\varepsilon_t)=v^{-d}(0,\\varepsilon_t)=U_{\\beta^{-d}}+\\varepsilon_t(1)\\leq U_{\\beta^{d}+\\delta}+\\varepsilon_t(1)\\leq\\varepsilon_t(0)$, so that $\\alpha^{-d}(1,\\varepsilon_t)=0$ as well and neither firm stays.\n",
    "\n",
    "This establishes that $\\alpha^{d}(1,\\varepsilon_t)=\\alpha^{-d}(1,\\varepsilon_t)=1$ if $\\varepsilon_t(0)<U_{\\beta^{-d}}+\\varepsilon_t(1)$ and that $\\alpha^{d}(1,\\varepsilon_t)=\\alpha^{-d}(1,\\varepsilon_t)=0$ if $\\varepsilon_t(0)\\geq U_{\\beta^{d}+\\delta}+\\varepsilon_t(1)$. With this in hand, we can construct multiple MPE by varying strategies on the set of remaining states, the $(1,\\varepsilon_t)$ such that $U_{\\beta^{-d}}+\\varepsilon_t(1)\\leq\\varepsilon_t(0)<U_{\\beta^{d}+\\delta}+\\varepsilon_t(1)$. We construct two extreme such MPE (and leave a fuller analysis for the exercises). \n",
    "- An MPE with mimimal activity arises if $\\alpha^{d}(1,\\varepsilon_t)=\\alpha^{-d}(1,\\varepsilon_t)=0$ on the remaining set of states. Note that $v^j(1,\\varepsilon_t)=v^j(0,\\varepsilon_t)=U_{\\beta^j}+\\varepsilon_t(1)\\leq U_{\\beta^{-d}}+\\varepsilon_t(1)\\leq \\varepsilon_t(0)$ in these states, so that neither firm would benefit from deviating. \n",
    "- An MPE with maximal activity arises if $\\alpha^{d}(1,\\varepsilon_t)=\\alpha^{-d}(1,\\varepsilon_t)=1$ on the remaining set of states. Note that $v^{-d}(1,\\varepsilon_t)\\geq v^d(1,\\varepsilon_t)=U_{\\beta^d+\\delta}+\\varepsilon_t(1)>\\varepsilon_t(0)$ in these states, so that neither firm would benefit from deviating.\n",
    "\n",
    "Intuitively, the second MPE maximizes the complementarities that Dee and Mindy enjoy. Exercise 3 asks you to show that this MPE is _efficient_ in the sense that it is the MPE in which Dee and Mindy enjoy the highest sum of expected discounted profits. Exercise 4 establishes that it is the unique efficient MPE.\n",
    "\n",
    "##### B. Heterogeneity dominates complementarity\n",
    "\n",
    "Alternatively, suppose that heterogeneity dominates complementarity, as in our second example: $\\beta^d+\\delta<\\beta^{-d}$. Then, $v^{-d}(1,\\varepsilon_t)\\geq U_{\\beta^{-d}}+\\varepsilon_t(1)\\geq U_{\\beta^d+\\delta}+\\varepsilon_t(1)$, so that Mindy continues in all states such that $U_{\\beta^d+\\delta}+\\varepsilon_t(1)>\\varepsilon_t(0)$ (survival dominates). Also, Dee never continues in the complementary case that $U_{\\beta^d+\\delta}+\\varepsilon_t(1)\\leq\\varepsilon_t(0)$ (exit dominates). This implies that Dee effectively solves the auxiliary problem in which Mindy is always around, so that $v^d(1,\\varepsilon_t(1))=U_{\\beta^d+\\delta}+\\varepsilon_t(1)$ and $\\alpha^d(1,\\varepsilon_t)=\\alpha_{\\beta^d+\\delta}(\\varepsilon_t)$, and Mindy will act as if she is alone, $\\alpha^{-d}(1,\\varepsilon_t)=\\alpha_{\\beta^{-d}}(\\varepsilon_t)$. \n",
    "\n",
    "---\n",
    "*Exercises: Verification and uniqueness of the efficient MPE*\n",
    "\n",
    "3. *Verify that the MPE with maximal activity is indeed efficient.*\n",
    "\n",
    "4. *Briefly reflect whether there is a unique efficient MPE (that defaults to inactivity).*\n",
    "\n",
    "*Exercise: Existence of MPE that are not efficient*\n",
    "\n",
    "5. *Give an example of an MPE that is not efficient. (Hint: For a simple example, consider the case in which $\\beta^d=\\beta^{-d}$ and $\\delta>0$.)*\n",
    "\n",
    "*Exercises: Synchronization in the efficient MPE*\n",
    "\n",
    "6. *For both numerical examples, A and B, characterize the efficient MPE exit outcomes (that is, describe the implied exit behavior in relation to the path of payoff shocks $\\varepsilon_t$). Make sure to use the numbers above and carefully consider if and when Dee and Mindy synchronize their exits.*\n",
    "\n",
    "7. *Similary, characterize the equilibrium exit outcomes for arbitrary parameter values $\\beta^d$, $\\beta^{-d}$, $\\delta$, and $\\rho$. As in the numerical examples, distinguish between specifications in which $\\delta\\geq\\beta^{-d}-\\beta^d$ and in which $\\delta<\\beta^{-d}-\\beta^d$.*\n",
    "\n",
    "---\n",
    "\n",
    "### Empirical Implementation\n",
    "\n",
    "Now suppose we observe a random sample of exit games $g=1,\\ldots,\\check{g}$ like Dee and Mindy's. These $\\check{g}$ games share a common discount factor $\\rho$ and complementarity parameter $\\delta$. However, their baseline payoffs $\\beta^d_g$ and $\\beta^{-d}_g$  are drawn independently (as if agents were randomly matched) from normal distributions with common mean $\\mu$ and variance $\\sigma^2$ (note that we no longer assume that $\\beta^d_g\\leq \\beta^{-d}_g$). Moreover, they are hit by independent payoff shocks $\\varepsilon_{g,t}$. We assume that, in each game $g$, the agents play the above efficient MPE strategies and we observe the corresponding exit times. Note that there are two sources of sample variation in these times: the payoff shocks $\\varepsilon_{g,t}$ and the baseline payoffs $\\beta^d_g$ and $\\beta^{-d}_g$.\n",
    "\n",
    "We will simulate data for a specification of this econometric model, implement a nested fixed point maximum likelihood estimator of its parameters (except $\\rho$, which we will fix at its true value), and apply this estimator to the simulated data. \n",
    "\n",
    "#### Simulating data \n",
    "\n",
    "Our data simulation requires a function `logit` that calculates $x\\mapsto\\exp(x)/\\left(1+\\exp(x)\\right)$."
   ]
  },
  {
   "cell_type": "code",
   "execution_count": 5,
   "metadata": {},
   "outputs": [
    {
     "name": "stdout",
     "output_type": "stream",
     "text": [
      "Created file '/Users/jaap/sandbox/dynamic-economic-models/lectures/games/code/logit.m'.\n"
     ]
    }
   ],
   "source": [
    "%%file code/logit.m\n",
    "\n",
    "function p=logit(x)\n",
    "    p=exp(x)./(1+exp(x));\n",
    "end"
   ]
  },
  {
   "cell_type": "markdown",
   "metadata": {},
   "source": [
    "The function `simdata` simulates data from the efficient MPE in `gCheck` ($\\check{g}$) games with parameters `mu` ($\\mu$), `sigma` ($\\sigma$), and `delta` ($\\delta$) over `tCheck` ($\\check{t}$) time periods. The data are returned in a $(\\check{t}+1)\\times\\check{g}$ matrix `nFirms`, which has the number of active firms in game $g$ at time $t-1$ in its $(t,g)$-th entry. Note that the first row of this matrix contains only $2$s, as this is the initial number of active agents in each game. Recall that we use the global value of `rho` ($\\rho$) throughout. "
   ]
  },
  {
   "cell_type": "code",
   "execution_count": 6,
   "metadata": {},
   "outputs": [
    {
     "name": "stdout",
     "output_type": "stream",
     "text": [
      "Created file '/Users/jaap/sandbox/dynamic-economic-models/lectures/games/code/simdata.m'.\n"
     ]
    }
   ],
   "source": [
    "%%file code/simdata.m\n",
    "\n",
    "function nFirms=simdata(gCheck,tCheck,mu,sigma,delta)\n",
    "global rho\n",
    "    beta=mu+sigma*randn(2,gCheck);\n",
    "    betaH=max(beta);\n",
    "    betaL=min(beta);\n",
    "\n",
    "    pH=logit(solveP(@(U)(bellman(U,betaH))));\n",
    "    pL=logit(solveP(@(U)(bellman(U,betaL+delta))));\n",
    "    \n",
    "    unif = rand(tCheck,gCheck);\n",
    "    stayL = unif<pL;\n",
    "    stayH = unif<pH;\n",
    "\n",
    "    nFirms = 2*ones(1,gCheck);\n",
    "    for t=1:tCheck\n",
    "        S = nFirms(t,:);\n",
    "        S(S==2) = 1+stayL(t,S==2);\n",
    "        S(S==1) = stayH(t,S==1);\n",
    "        nFirms=[nFirms;S];\n",
    "    end\n",
    "end"
   ]
  },
  {
   "cell_type": "markdown",
   "metadata": {},
   "source": [
    "We use `simdata` to simulate $\\check{g}=10000$ games with parameters $\\mu=-0.20$, $\\sigma^2=0.30^2$, and $\\delta=0.25$ over $\\check{t}=10$ time periods."
   ]
  },
  {
   "cell_type": "code",
   "execution_count": 7,
   "metadata": {},
   "outputs": [],
   "source": [
    "rng(230670)\n",
    "delta=0.25;\n",
    "mu = -0.2;\n",
    "sigma = 0.3;\n",
    "\n",
    "nFirms=simdata(10000,10,mu,sigma,delta);"
   ]
  },
  {
   "cell_type": "markdown",
   "metadata": {},
   "source": [
    "#### Estimation\n",
    "\n",
    "Exactly calculating the model's likelihood requires that we compute the efficient MPE for each possible value of $(\\beta^d_g,\\beta^{-d}_g)$, construct the implied probability of observing each game $g$'s outcome path, and integrate each of these probabilities over the distribution of $(\\beta^d_g,\\beta^{-d}_g)$. Because $(\\beta^d_g,\\beta^{-d}_g)$ is continuously distributed, this is not feasible. One computationally feasible approach would be to numerically integrate over $(\\beta^d_g,\\beta^{-d}_g)$, which would reduce the integral to a sum over finitely many values of $(\\beta^d_g,\\beta^{-d}_g)$. \n",
    "\n",
    "We will instead adopt an approach that is natural in applications in which we are not sure about the true distribution of $(\\beta^d_g,\\beta^{-d}_g)$. We will maximize the likelihood of a version of the model in which the normal distribution of $(\\beta^d_g,\\beta^{-d}_g)$ is replaced with a finitely discrete distribution. This discrete distribution can either be parameterized in terms of $\\mu$ and $\\sigma^2$ to approximate the original model's normal distribution or kept unrestricted. Either way, the procedure directly provides estimates of the key complementarity parameter, $\\delta$. In the first approach, it also provides estimates of $\\mu$ and $\\sigma$ (in fact, this approach can be interpreted as one implementation of numerical integration with respect to the normal distribution). We adopt the second approach, because this is simpler to code up and works well. This approach does not directly produce estimates of $\\mu$ and $\\sigma^2$, but we will construct these in a second step from the estimated discrete distribution. \n",
    "\n",
    "We first store a function `negLogLik` that calculates minus the log likelihood of the parameters of the discrete distribution of $(\\beta^d_g,\\beta^{-d}_g)$ (inputted as `parq` and `parx`) and $\\ln(\\delta)$ (`pard`), given `data` in the form outputted by `simdata`. Note that we store the support points of $\\beta^j_g$ in a column vector `x` and the corresponding probabilities in a vector `q` of the same dimensions."
   ]
  },
  {
   "cell_type": "code",
   "execution_count": 8,
   "metadata": {},
   "outputs": [
    {
     "name": "stdout",
     "output_type": "stream",
     "text": [
      "Created file '/Users/jaap/sandbox/dynamic-economic-models/lectures/games/code/negLogLik.m'.\n"
     ]
    }
   ],
   "source": [
    "%%file code/negLogLik.m\n",
    "\n",
    "function nll=negLogLik(data,parq,parx,pard)\n",
    "    gCheck=size(data,2);\n",
    "    x=cumsum([parx(1);exp(parx(2:end))]);\n",
    "    q=[exp(parq);1];\n",
    "        q=q/sum(q);\n",
    "        q=q.*q';\n",
    "        q=q(:);\n",
    "    nHet=size(x,1);\n",
    "    v=repmat(x,1,nHet);\n",
    "    xH=max(x,x');\n",
    "        xH=xH(:)';\n",
    "    xL=min(x,x');\n",
    "        xL=xL(:)';\n",
    "    delta=exp(pard);    \n",
    "    pL=logit(solveP(@(U)(bellman(U,xL+delta))));\n",
    "    pH=logit(solveP(@(U)(bellman(U,xH))));\n",
    "    p22=pL;\n",
    "    p21=max(pH-pL,0);\n",
    "    p20=1-p22-p21;\n",
    "    p11=pH;\n",
    "    p10=1-pH;\n",
    "    nll=0;    \n",
    "    for n=1:gCheck\n",
    "        ly=data(1:end-1,n);\n",
    "        nw=data(2:end,n);\n",
    "        lik=(ly==2).*((nw==2).*p22+(nw==1).*p21+(nw==0).*p20)+...\n",
    "            (ly==1).*((nw==1).*p11+(nw==0).*p10)+...\n",
    "            (ly==0).*ones(1,nHet^2);\n",
    "        nll=nll-log(prod(lik)*q);\n",
    "    end    \n",
    "end"
   ]
  },
  {
   "cell_type": "markdown",
   "metadata": {},
   "source": [
    "Next, we estimate these parameters by minimizing the negative log likelihood specified in `negLogLik`. We store the estimates of the discrete distribution of $\\beta^j_g$ in `qhat` and `xhat` and the estimate of $\\delta$ in `deltahat`."
   ]
  },
  {
   "cell_type": "code",
   "execution_count": 9,
   "metadata": {},
   "outputs": [
    {
     "name": "stdout",
     "output_type": "stream",
     "text": [
      "                                                        First-order \n",
      " Iteration  Func-count       f(x)        Step-size       optimality\n",
      "     0          23          33235.8                      6.38e+03\n",
      "     1          69          31485.6     4.4948e-05       1.32e+03  \n",
      "     2          92          31149.2              1        1.7e+03  \n",
      "     3         115            30153              1       4.81e+03  \n",
      "     4         161          29457.7        0.45988        2.6e+03  \n",
      "     5         184            29340              1            970  \n",
      "     6         207          29324.9              1            450  \n",
      "     7         230          29318.6              1            187  \n",
      "     8         253          29306.7              1            211  \n",
      "     9         276            29280              1            610  \n",
      "    10         299          29243.7              1            579  \n",
      "    11         322          29223.5              1           74.6  \n",
      "    12         345          29221.1              1           58.2  \n",
      "    13         368          29220.1              1           56.1  \n",
      "    14         391          29219.5              1           78.6  \n",
      "    15         414            29216              1            162  \n",
      "    16         437          29211.7              1            200  \n",
      "    17         460          29205.9              1            288  \n",
      "    18         483          29201.5              1            258  \n",
      "    19         506            29199              1            187  \n",
      "                                                        First-order \n",
      " Iteration  Func-count       f(x)        Step-size       optimality\n",
      "    20         529          29197.8              1           54.7  \n",
      "    21         552          29197.4              1           65.6  \n",
      "    22         575          29197.3              1           22.1  \n",
      "    23         598          29197.3              1           1.92  \n",
      "    24         621          29197.3              1           3.28  \n",
      "    25         644          29197.3              1           1.22  \n",
      "    26         897          29197.3    3.44224e-06           1.01  \n",
      "\n",
      "Local minimum possible.\n",
      "\n",
      "fminunc stopped because it cannot decrease the objective function\n",
      "along the current search direction.\n",
      "\n",
      "\n",
      "parhat =\n",
      "\n",
      "   -0.4787\n",
      "   -0.3044\n",
      "   -0.0868\n",
      "    0.1600\n",
      "    0.3756\n",
      "    0.4772\n",
      "    0.4078\n",
      "    0.1953\n",
      "   -0.0329\n",
      "   -0.2266\n",
      "   -0.8130\n",
      "   -1.7574\n",
      "   -1.9607\n",
      "   -2.1929\n",
      "   -2.3974\n",
      "   -2.5269\n",
      "   -2.5270\n",
      "   -2.4027\n",
      "   -2.2149\n",
      "   -2.0406\n",
      "   -1.8677\n",
      "   -1.3909\n",
      "\n",
      "\n",
      "nll =\n",
      "\n",
      "   2.9197e+04\n",
      "\n",
      "\n",
      "exitflag =\n",
      "\n",
      "     5\n",
      "\n",
      "qhat, xhat, and deltahat\n",
      "\n",
      "qhat =\n",
      "\n",
      "    0.0516\n",
      "    0.0615\n",
      "    0.0764\n",
      "    0.0978\n",
      "    0.1213\n",
      "    0.1343\n",
      "    0.1253\n",
      "    0.1013\n",
      "    0.0806\n",
      "    0.0664\n",
      "    0.0833\n",
      "\n",
      "\n",
      "xhat =\n",
      "\n",
      "   -0.8130\n",
      "   -0.6405\n",
      "   -0.4998\n",
      "   -0.3882\n",
      "   -0.2972\n",
      "   -0.2173\n",
      "   -0.1374\n",
      "   -0.0470\n",
      "    0.0622\n",
      "    0.1922\n",
      "    0.3466\n",
      "\n",
      "\n",
      "deltahat =\n",
      "\n",
      "    0.2489\n",
      "\n"
     ]
    }
   ],
   "source": [
    "parx = [-1;repmat(log(0.2),10,1)];\n",
    "    nHet = size(parx,1);\n",
    "parq = zeros(nHet-1,1);\n",
    "pard = log(0.2);\n",
    "parzero =[parq;parx;pard];\n",
    "OptimizerOptions = optimset('Display','iter',...\n",
    "                            'MaxFunEvals',100000, ...\n",
    "                            'MaxIter',1000);\n",
    "\n",
    "[parhat,nll,exitflag]=fminunc(@(par)negLogLik(nFirms,par(1:nHet-1),...\n",
    "            par(nHet:end-1),par(end)),parzero,OptimizerOptions)\n",
    "\n",
    "parqhat=parhat(1:nHet-1);\n",
    "parxhat=parhat(nHet:end-1);\n",
    "pardhat=parhat(end);\n",
    "\n",
    "disp('qhat, xhat, and deltahat')\n",
    "qhat=[exp(parqhat);1];\n",
    "    qhat=qhat/sum(qhat)      \n",
    "xhat=cumsum([parxhat(1);exp(parxhat(2:end))])\n",
    "deltahat=exp(pardhat)"
   ]
  },
  {
   "cell_type": "markdown",
   "metadata": {},
   "source": [
    "We can partially check whether our simulated data are informative about the key complementarity parameter, $\\delta$, by plotting the log likelihood as a function of $\\delta$ at the estimated distribution of $\\beta^j_g$. "
   ]
  },
  {
   "cell_type": "code",
   "execution_count": 10,
   "metadata": {},
   "outputs": [
    {
     "data": {
      "image/png": "[encoded data removed]",
      "text/plain": [
       "<IPython.core.display.Image object>"
      ]
     },
     "metadata": {},
     "output_type": "display_data"
    }
   ],
   "source": [
    "l=[];\n",
    "for d=0.01:0.01:0.6\n",
    "    l=[l;negLogLik(nFirms,parqhat,parxhat,log(d))];\n",
    "end\n",
    "plot(0.01:0.01:0.6,-l)"
   ]
  },
  {
   "cell_type": "markdown",
   "metadata": {},
   "source": [
    "For a more complete assessment of the information in the simulated data about $\\delta$ (and the model's other parameters), we could estimate the information matrix using the Hessian of the log likelihood and calculate asymptotic standard errors. As this is routine, we will not pursue this here.\n",
    "\n",
    "Our estimation method recovers the key payoff parameters, including the degree of complementarity, well, despite formally misspecifying the normal distribution of $\\beta^j_g$ as finitely discrete. What obviously helps here is that a fine enough discrete distribution can approximate the true normal cumulative distribution of $\\beta^j_g$ arbitrarily well. We can easily check that the estimated discrete distribution of $\\beta^j_g$ has a mean and standard deviation close to the parameters $\\mu$ and $\\sigma$ of the normal distribution used to simulate the data, and indeed closely tracks that distribution. "
   ]
  },
  {
   "cell_type": "code",
   "execution_count": 11,
   "metadata": {},
   "outputs": [
    {
     "name": "stdout",
     "output_type": "stream",
     "text": [
      "mu and sigma\n",
      "   -0.2000    0.3000\n",
      "\n",
      "muhat and sigmahat\n",
      "   -0.1981    0.2939\n",
      "\n"
     ]
    },
    {
     "data": {
      "image/png": "[encoded data removed]",
      "text/plain": [
       "<IPython.core.display.Image object>"
      ]
     },
     "metadata": {},
     "output_type": "display_data"
    }
   ],
   "source": [
    "disp('mu and sigma')\n",
    "disp([mu sigma])\n",
    "disp('muhat and sigmahat')\n",
    "muhat=xhat'*qhat;\n",
    "sigmahat=sqrt(((xhat-xhat'*qhat).^2)'*qhat);\n",
    "disp([muhat sigmahat])\n",
    "\n",
    "x=-1.5:0.001:1.5;\n",
    "nrm=normcdf((x-mu)/sigma);\n",
    "dis=sum(repmat(qhat,1,size(x,2)).*(xhat<=x));\n",
    "plot(x,[nrm;dis])"
   ]
  },
  {
   "cell_type": "markdown",
   "metadata": {},
   "source": [
    "---\n",
    "*Exercise: Identification of complementarities*\n",
    "\n",
    "8. *Suppose that couples do not match randomly, but assortively, so that $\\beta^d_g$ and $\\beta^{-d}_g$ are no longer independent, but positively associated across games $g$ (for example, avid smokers may seek partners who are similarly eager to smoke). Briefly discuss how this affects (i) each game's equilibrium analysis and (ii) the identification of complementarities ($\\delta$).*\n",
    "\n",
    "*Exercise: An alternative game*\n",
    "\n",
    "9. *Consider a finite horizon version of the game in which, in each period $t$, Dee moves before Mindy (where both continue to observe all past actions, including those in the same period). Briefly (!) discuss MPE existence, uniqueness, and computation in this alternative game.*"
   ]
  },
  {
   "cell_type": "markdown",
   "metadata": {},
   "source": [
    "---"
   ]
  }
 ],
 "metadata": {
  "kernelspec": {
   "display_name": "Matlab",
   "language": "matlab",
   "name": "matlab"
  },
  "language_info": {
   "codemirror_mode": "octave",
   "file_extension": ".m",
   "help_links": [
    {
     "text": "MetaKernel Magics",
     "url": "https://metakernel.readthedocs.io/en/latest/source/README.html"
    }
   ],
   "mimetype": "text/x-octave",
   "name": "matlab",
   "version": "0.16.11"
  }
 },
 "nbformat": 4,
 "nbformat_minor": 4
}
